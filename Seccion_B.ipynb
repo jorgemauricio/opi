{
 "cells": [
  {
   "cell_type": "code",
   "execution_count": 1,
   "metadata": {},
   "outputs": [],
   "source": [
    "import pandas as pd\n",
    "import numpy as np\n"
   ]
  },
  {
   "cell_type": "code",
   "execution_count": 8,
   "metadata": {},
   "outputs": [
    {
     "name": "stdout",
     "output_type": "stream",
     "text": [
      "(1000000, 15)\n",
      "(1000000, 15)\n",
      "(1000000, 15)\n",
      "(1000000, 15)\n",
      "(1000000, 15)\n",
      "(1000000, 15)\n",
      "(1000000, 15)\n",
      "(1000000, 15)\n",
      "(1000000, 15)\n",
      "(1000000, 15)\n",
      "(1000000, 15)\n",
      "(1000000, 15)\n",
      "(1000000, 15)\n",
      "(1000000, 15)\n",
      "(1000000, 15)\n",
      "(1000000, 15)\n",
      "(1000000, 15)\n",
      "(1000000, 15)\n",
      "(1000000, 15)\n",
      "(1000000, 15)\n",
      "(1000000, 15)\n",
      "(1000000, 15)\n",
      "(1000000, 15)\n",
      "(1000000, 15)\n",
      "(1000000, 15)\n",
      "(1000000, 15)\n",
      "(1000000, 15)\n",
      "(1000000, 15)\n",
      "(1000000, 15)\n",
      "(1000000, 15)\n",
      "(1000000, 15)\n",
      "(1000000, 15)\n",
      "(1000000, 15)\n",
      "(1000000, 15)\n",
      "(1000000, 15)\n",
      "(1000000, 15)\n",
      "(1000000, 15)\n",
      "(1000000, 15)\n",
      "(1000000, 15)\n",
      "(1000000, 15)\n",
      "(1000000, 15)\n",
      "(1000000, 15)\n",
      "(1000000, 15)\n",
      "(1000000, 15)\n",
      "(1000000, 15)\n",
      "(1000000, 15)\n",
      "(1000000, 15)\n",
      "(1000000, 15)\n",
      "(1000000, 15)\n",
      "(1000000, 15)\n",
      "(1000000, 15)\n",
      "(1000000, 15)\n",
      "(1000000, 15)\n",
      "(1000000, 15)\n",
      "(1000000, 15)\n",
      "(1000000, 15)\n",
      "(1000000, 15)\n",
      "(1000000, 15)\n",
      "(1000000, 15)\n",
      "(1000000, 15)\n",
      "(1000000, 15)\n",
      "(1000000, 15)\n",
      "(530715, 15)\n",
      "62530715\n"
     ]
    }
   ],
   "source": [
    "### Número de Registros\n",
    "\n",
    "chunksize = 1_000_000\n",
    "\n",
    "filename = 'data/all_data.csv'\n",
    "\n",
    "counter = 0\n",
    "\n",
    "for chunk in pd.read_csv(filename, chunksize=chunksize):\n",
    "    print(chunk.shape)\n",
    "    counter += chunk.shape[0]\n",
    "\n",
    "print(counter)"
   ]
  },
  {
   "cell_type": "markdown",
   "metadata": {},
   "source": [
    "### ¿Cuántas categorías?"
   ]
  },
  {
   "cell_type": "code",
   "execution_count": 25,
   "metadata": {},
   "outputs": [],
   "source": [
    "chunksize = 1_000_000\n",
    "\n",
    "filename = 'data/all_data.csv'\n",
    "\n",
    "frames = []\n",
    "\n",
    "for chunk in pd.read_csv(filename, chunksize=chunksize):\n",
    "    df_temp = chunk[['categoria', 'cadenaComercial', 'producto', 'estado', 'precio']].copy()\n",
    "    frames.append(df_temp)\n",
    "    \n"
   ]
  },
  {
   "cell_type": "code",
   "execution_count": 26,
   "metadata": {},
   "outputs": [
    {
     "name": "stdout",
     "output_type": "stream",
     "text": [
      "<class 'pandas.core.frame.DataFrame'>\n",
      "RangeIndex: 62530715 entries, 0 to 62530714\n",
      "Data columns (total 5 columns):\n",
      "categoria          object\n",
      "cadenaComercial    object\n",
      "producto           object\n",
      "estado             object\n",
      "precio             object\n",
      "dtypes: object(5)\n",
      "memory usage: 2.3+ GB\n"
     ]
    }
   ],
   "source": [
    "df = pd.concat(frames)\n",
    "\n",
    "df.info()"
   ]
  },
  {
   "cell_type": "code",
   "execution_count": 27,
   "metadata": {},
   "outputs": [
    {
     "data": {
      "text/plain": [
       "41"
      ]
     },
     "execution_count": 27,
     "metadata": {},
     "output_type": "execute_result"
    }
   ],
   "source": [
    "df['categoria'].nunique()"
   ]
  },
  {
   "cell_type": "markdown",
   "metadata": {},
   "source": [
    "### c. ¿Cuántas cadenas comerciales están siendo monitoreadas?"
   ]
  },
  {
   "cell_type": "code",
   "execution_count": 28,
   "metadata": {},
   "outputs": [
    {
     "data": {
      "text/plain": [
       "705"
      ]
     },
     "execution_count": 28,
     "metadata": {},
     "output_type": "execute_result"
    }
   ],
   "source": [
    "df['cadenaComercial'].nunique()"
   ]
  },
  {
   "cell_type": "markdown",
   "metadata": {},
   "source": [
    "### d ¿Cómo podrías determinar la calidad de los datos? ¿Detectaste algún tipo de inconsistencia o error en la fuente?"
   ]
  },
  {
   "cell_type": "markdown",
   "metadata": {},
   "source": [
    "generando un EDA de las variables númericas para determinar si existen valores nulos, atípicos"
   ]
  },
  {
   "cell_type": "markdown",
   "metadata": {},
   "source": [
    "### e ¿Cuáles son los productos más monitoreados en cada entidad?"
   ]
  },
  {
   "cell_type": "code",
   "execution_count": 35,
   "metadata": {},
   "outputs": [
    {
     "data": {
      "text/plain": [
       "estado          producto       \n",
       "AGUASCALIENTES  A.S.COR             175\n",
       "                ABILIFY              94\n",
       "                ACARBOSA            145\n",
       "                ACEITE             5838\n",
       "                ACEITE DE OLIVA    2207\n",
       "                                   ... \n",
       "ZACATECAS       ZWAN               2441\n",
       "                ZWAN. PREMIUM      2997\n",
       "                ZYLOPRIM            371\n",
       "                ZYPREXA             532\n",
       "estado          producto             20\n",
       "Name: producto, Length: 30361, dtype: int64"
      ]
     },
     "execution_count": 35,
     "metadata": {},
     "output_type": "execute_result"
    }
   ],
   "source": [
    "df.groupby(['estado','producto'])['producto'].count()"
   ]
  },
  {
   "cell_type": "markdown",
   "metadata": {},
   "source": [
    "### f ¿Cuál es la cadena comercial con mayor variedad de productos monitoreados?"
   ]
  },
  {
   "cell_type": "code",
   "execution_count": 38,
   "metadata": {},
   "outputs": [
    {
     "data": {
      "text/plain": [
       "cadenaComercial\n",
       "WAL-MART                           8643133\n",
       "BODEGA AURRERA                     6765453\n",
       "SORIANA                            6546211\n",
       "MEGA COMERCIAL MEXICANA            4899509\n",
       "CHEDRAUI                           4221625\n",
       "                                    ...   \n",
       "FARMACIA PROVIDENCIA                     7\n",
       "DANIEL S UNIFORMES                       5\n",
       "MUEBLERIA MI CASA                        5\n",
       "PESCADERIA EXPENDIO LOS RUFINOS          4\n",
       "PESCADERIA LA AMISTAD                    1\n",
       "Name: producto, Length: 705, dtype: int64"
      ]
     },
     "execution_count": 38,
     "metadata": {},
     "output_type": "execute_result"
    }
   ],
   "source": [
    "df.groupby('cadenaComercial')['producto'].count().sort_values(ascending = False)"
   ]
  },
  {
   "cell_type": "code",
   "execution_count": null,
   "metadata": {},
   "outputs": [],
   "source": []
  },
  {
   "cell_type": "code",
   "execution_count": null,
   "metadata": {},
   "outputs": [],
   "source": []
  }
 ],
 "metadata": {
  "kernelspec": {
   "display_name": "Python 3",
   "language": "python",
   "name": "python3"
  },
  "language_info": {
   "codemirror_mode": {
    "name": "ipython",
    "version": 3
   },
   "file_extension": ".py",
   "mimetype": "text/x-python",
   "name": "python",
   "nbconvert_exporter": "python",
   "pygments_lexer": "ipython3",
   "version": "3.7.4"
  }
 },
 "nbformat": 4,
 "nbformat_minor": 2
}
